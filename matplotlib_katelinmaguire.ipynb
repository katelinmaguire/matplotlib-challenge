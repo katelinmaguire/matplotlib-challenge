{
 "cells": [
  {
   "cell_type": "markdown",
   "metadata": {},
   "source": [
    "## Observations and Insights\n",
    "\n",
    "1. The line plot of time point versus tumor volume for a mouse treated with Capomulin shows that that mouse's tumor steadily reduced in size, which is promising because this was the regimen of interest. In order to understand the drug's efficacy, we should next look at the tumor size progression of the entire sample treated with Capomulin.\n",
    "2. The regression model for mouse weight versus average tumor volume shows a linear association between weight and tumor volume. Further, there is a strong positive correltion between mouse weight an tumor volume. As a mouse's weight increases, tumor size also tends to increase.\n",
    "3. According to the IQR calculations and box-and-whisker plots, the Capomulin and Ramican regimens showed lower final tumor volume, so these treatments were more effective than Infubinol and Ceftamin. The inital tumor volumes were 45 mm3 for every mouse so many of the mice who received Infubinol and Ceftamin had their tumors grow larger and did not show much better results than the placebo condition."
   ]
  },
  {
   "cell_type": "markdown",
   "metadata": {},
   "source": [
    "## Dependencies and starter code"
   ]
  },
  {
   "cell_type": "code",
   "execution_count": 5,
   "metadata": {},
   "outputs": [],
   "source": [
    "# Dependencies and Setup\n",
    "import matplotlib.pyplot as plt\n",
    "import pandas as pd\n",
    "import scipy.stats as sts\n",
    "import numpy as np\n",
    "\n",
    "# Study data files\n",
    "mouse_metadata = \"Mouse_metadata.csv\"\n",
    "study_results = \"Study_results.csv\"\n",
    "\n",
    "# Read the mouse data and the study results\n",
    "mouse_metadata = pd.read_csv(mouse_metadata)\n",
    "study_results = pd.read_csv(study_results)\n",
    "\n",
    "# Combine the data into a single dataset\n",
    "pharma_df = pd.merge(mouse_metadata, study_results, how='outer')"
   ]
  },
  {
   "cell_type": "markdown",
   "metadata": {},
   "source": [
    "## Summary statistics"
   ]
  },
  {
   "cell_type": "code",
   "execution_count": 6,
   "metadata": {},
   "outputs": [
    {
     "data": {
      "text/html": [
       "<div>\n",
       "<style scoped>\n",
       "    .dataframe tbody tr th:only-of-type {\n",
       "        vertical-align: middle;\n",
       "    }\n",
       "\n",
       "    .dataframe tbody tr th {\n",
       "        vertical-align: top;\n",
       "    }\n",
       "\n",
       "    .dataframe thead th {\n",
       "        text-align: right;\n",
       "    }\n",
       "</style>\n",
       "<table border=\"1\" class=\"dataframe\">\n",
       "  <thead>\n",
       "    <tr style=\"text-align: right;\">\n",
       "      <th></th>\n",
       "      <th>Drug Regimens</th>\n",
       "      <th>Mean</th>\n",
       "      <th>Median</th>\n",
       "      <th>Variance</th>\n",
       "      <th>SD</th>\n",
       "      <th>SEM</th>\n",
       "    </tr>\n",
       "  </thead>\n",
       "  <tbody>\n",
       "    <tr>\n",
       "      <td>0</td>\n",
       "      <td>Ramicane</td>\n",
       "      <td>40.216745</td>\n",
       "      <td>40.673236</td>\n",
       "      <td>23.486704</td>\n",
       "      <td>4.846308</td>\n",
       "      <td>0.320955</td>\n",
       "    </tr>\n",
       "    <tr>\n",
       "      <td>1</td>\n",
       "      <td>Capomulin</td>\n",
       "      <td>40.675741</td>\n",
       "      <td>41.557809</td>\n",
       "      <td>24.947764</td>\n",
       "      <td>4.994774</td>\n",
       "      <td>0.329346</td>\n",
       "    </tr>\n",
       "    <tr>\n",
       "      <td>2</td>\n",
       "      <td>Infubinol</td>\n",
       "      <td>52.884795</td>\n",
       "      <td>51.820584</td>\n",
       "      <td>43.128684</td>\n",
       "      <td>6.567243</td>\n",
       "      <td>0.492236</td>\n",
       "    </tr>\n",
       "    <tr>\n",
       "      <td>3</td>\n",
       "      <td>Placebo</td>\n",
       "      <td>54.033581</td>\n",
       "      <td>52.288934</td>\n",
       "      <td>61.168083</td>\n",
       "      <td>7.821003</td>\n",
       "      <td>0.581331</td>\n",
       "    </tr>\n",
       "    <tr>\n",
       "      <td>4</td>\n",
       "      <td>Ceftamin</td>\n",
       "      <td>52.591172</td>\n",
       "      <td>51.776157</td>\n",
       "      <td>39.290177</td>\n",
       "      <td>6.268188</td>\n",
       "      <td>0.469821</td>\n",
       "    </tr>\n",
       "    <tr>\n",
       "      <td>5</td>\n",
       "      <td>Stelasyn</td>\n",
       "      <td>54.233149</td>\n",
       "      <td>52.431737</td>\n",
       "      <td>59.450562</td>\n",
       "      <td>7.710419</td>\n",
       "      <td>0.573111</td>\n",
       "    </tr>\n",
       "    <tr>\n",
       "      <td>6</td>\n",
       "      <td>Zoniferol</td>\n",
       "      <td>53.236507</td>\n",
       "      <td>51.818479</td>\n",
       "      <td>48.533355</td>\n",
       "      <td>6.966589</td>\n",
       "      <td>0.516398</td>\n",
       "    </tr>\n",
       "    <tr>\n",
       "      <td>7</td>\n",
       "      <td>Ketapril</td>\n",
       "      <td>55.235638</td>\n",
       "      <td>53.698743</td>\n",
       "      <td>68.553577</td>\n",
       "      <td>8.279709</td>\n",
       "      <td>0.603860</td>\n",
       "    </tr>\n",
       "    <tr>\n",
       "      <td>8</td>\n",
       "      <td>Propriva</td>\n",
       "      <td>52.322552</td>\n",
       "      <td>50.854632</td>\n",
       "      <td>42.351070</td>\n",
       "      <td>6.507770</td>\n",
       "      <td>0.512884</td>\n",
       "    </tr>\n",
       "    <tr>\n",
       "      <td>9</td>\n",
       "      <td>Naftisol</td>\n",
       "      <td>54.331565</td>\n",
       "      <td>52.509285</td>\n",
       "      <td>66.173479</td>\n",
       "      <td>8.134708</td>\n",
       "      <td>0.596466</td>\n",
       "    </tr>\n",
       "  </tbody>\n",
       "</table>\n",
       "</div>"
      ],
      "text/plain": [
       "  Drug Regimens       Mean     Median   Variance        SD       SEM\n",
       "0      Ramicane  40.216745  40.673236  23.486704  4.846308  0.320955\n",
       "1     Capomulin  40.675741  41.557809  24.947764  4.994774  0.329346\n",
       "2     Infubinol  52.884795  51.820584  43.128684  6.567243  0.492236\n",
       "3       Placebo  54.033581  52.288934  61.168083  7.821003  0.581331\n",
       "4      Ceftamin  52.591172  51.776157  39.290177  6.268188  0.469821\n",
       "5      Stelasyn  54.233149  52.431737  59.450562  7.710419  0.573111\n",
       "6     Zoniferol  53.236507  51.818479  48.533355  6.966589  0.516398\n",
       "7      Ketapril  55.235638  53.698743  68.553577  8.279709  0.603860\n",
       "8      Propriva  52.322552  50.854632  42.351070  6.507770  0.512884\n",
       "9      Naftisol  54.331565  52.509285  66.173479  8.134708  0.596466"
      ]
     },
     "execution_count": 6,
     "metadata": {},
     "output_type": "execute_result"
    }
   ],
   "source": [
    "# Generate a summary statistics table of mean, median, variance, standard deviation, and SEM of the tumor volume for each regimen\n",
    "\n",
    "# list of regimens\n",
    "regimens = pharma_df['Drug Regimen'].unique()\n",
    "\n",
    "# initialize a list for dfs, one for each regimen\n",
    "d = []\n",
    "\n",
    "# grab the columns we need \n",
    "pharma_df_tumor_volume = pharma_df[['Drug Regimen', 'Tumor Volume (mm3)']]\n",
    "\n",
    "# iterate through the dataset to create a df for each regimen\n",
    "for regimen in range(len(regimens)):\n",
    "     d.append(pharma_df_tumor_volume[pharma_df_tumor_volume['Drug Regimen'] == regimens[regimen]])\n",
    "\n",
    "# initialize a list for each statistic\n",
    "r_means = []\n",
    "r_medians = []\n",
    "r_vars = [] \n",
    "r_sds = [] \n",
    "r_sems = []  # standard deviation divided by square root of sample size\n",
    "\n",
    "# compute the statistics for each regimen, using the corresponding df\n",
    "for regimen_df in range(len(d)): \n",
    "    r_means.append(np.mean(d[regimen_df][\"Tumor Volume (mm3)\"]))\n",
    "    r_medians.append(np.median(d[regimen_df][\"Tumor Volume (mm3)\"]))\n",
    "    r_vars.append(np.var(d[regimen_df][\"Tumor Volume (mm3)\"], ddof = 1))   # ddof = 1 for a sample\n",
    "    r_sds.append(np.std(d[regimen_df][\"Tumor Volume (mm3)\"], ddof = 1))    # ddof = 1 for a sample\n",
    "    r_sems.append(sts.sem(d[regimen_df][\"Tumor Volume (mm3)\"], ddof = 1))  # ddof = 1 for a sample\n",
    "    \n",
    "\n",
    "# create summary df\n",
    "summary_df = pd.DataFrame({\"Drug Regimens\": regimens,\n",
    "                          'Mean': r_means,\n",
    "                          'Median': r_medians,\n",
    "                          'Variance': r_vars,\n",
    "                          'SD':r_sds,\n",
    "                          'SEM': r_sems})\n",
    "summary_df"
   ]
  },
  {
   "cell_type": "markdown",
   "metadata": {},
   "source": [
    "## Bar plots"
   ]
  },
  {
   "cell_type": "code",
   "execution_count": 7,
   "metadata": {},
   "outputs": [
    {
     "data": {
      "image/png": "[encoded data removed]",
      "text/plain": [
       "<Figure size 432x288 with 1 Axes>"
      ]
     },
     "metadata": {
      "needs_background": "light"
     },
     "output_type": "display_data"
    }
   ],
   "source": [
    "# Generate a bar plot showing number of data points for each treatment regimen using pandas\n",
    "\n",
    "# create a df to plot that includes drug regimens and number of data points\n",
    "regimen_counts_df = pharma_df.groupby(['Drug Regimen']).count().reset_index()\n",
    "\n",
    "# include only columns of interest\n",
    "regimen_counts_df = regimen_counts_df[['Drug Regimen', 'Mouse ID']]\n",
    "\n",
    "# rename columns more intuitively\n",
    "regimen_counts_df = regimen_counts_df.rename(columns = {'Mouse ID': 'Mouse ID Count'})\n",
    "\n",
    "# sort the y-axis values\n",
    "regimen_counts_df.sort_values('Mouse ID Count', ascending = False, inplace = True)\n",
    "\n",
    "# plot drug regimen vs. count of data points\n",
    "regimen_counts_df.plot(kind = 'bar', x = 'Drug Regimen', y = 'Mouse ID Count', \n",
    "                       legend = None, color='#0c1793', alpha = .8, width = 0.6)\n",
    "plt.xlim(-0.75, len(regimens)-0.25)\n",
    "plt.ylim(0, max(regimen_counts_df['Mouse ID Count']) + 50)\n",
    "plt.xticks(rotation = 90)\n",
    "plt.title(\"Data Points per Drug Regimen\")\n",
    "plt.xlabel(\"Drug Regimen\")\n",
    "plt.ylabel(\"Number of Data Points\")\n",
    "\n",
    "plt.show()"
   ]
  },
  {
   "cell_type": "code",
   "execution_count": 8,
   "metadata": {},
   "outputs": [
    {
     "data": {
      "image/png": "[encoded data removed]",
      "text/plain": [
       "<Figure size 432x288 with 1 Axes>"
      ]
     },
     "metadata": {
      "needs_background": "light"
     },
     "output_type": "display_data"
    }
   ],
   "source": [
    "# Generate a bar plot showing number of data points for each treatment regimen using pyplot\n",
    "\n",
    "# initalize a list to store the number of data points for each regimen\n",
    "regimen_data_points = []\n",
    "\n",
    "# store the number of data points for each regimen (can use # of rows as a proxy for # of data points)\n",
    "for regimen in range(len(d)):\n",
    "    regimen_data_points.append(len(d[regimen][\"Tumor Volume (mm3)\"]))\n",
    "    \n",
    "# create a df so I can sort the values and make this plot identical to the one above\n",
    "data_df = pd.DataFrame({'regimens': regimens, \n",
    "                        'regimen_data_points': regimen_data_points})\n",
    "data_df.sort_values(by='regimen_data_points', ascending = False, inplace = True)\n",
    "\n",
    "# plot drug regimen vs. count of data points\n",
    "plt.bar(data_df.regimens, data_df.regimen_data_points, color='#0c1793', \n",
    "        alpha = .8, align = \"center\", width = 0.6)\n",
    "plt.xlim(-0.75, len(regimens) - 0.25)\n",
    "plt.ylim(0, max(regimen_data_points) + 50)\n",
    "plt.xticks(rotation = 90)\n",
    "plt.title(\"Data Points per Drug Regimen\")\n",
    "plt.xlabel(\"Drug Regimen\")\n",
    "plt.ylabel(\"Number of Data Points\")\n",
    "\n",
    "\n",
    "plt.show()"
   ]
  },
  {
   "cell_type": "markdown",
   "metadata": {},
   "source": [
    "## Pie plots"
   ]
  },
  {
   "cell_type": "code",
   "execution_count": 9,
   "metadata": {},
   "outputs": [
    {
     "data": {
      "image/png": "[encoded data removed]",
      "text/plain": [
       "<Figure size 432x288 with 1 Axes>"
      ]
     },
     "metadata": {},
     "output_type": "display_data"
    }
   ],
   "source": [
    "# Generate a pie plot showing the distribution of female versus male mice using pandas\n",
    "\n",
    "# group metadata df to get counts of male and female mice\n",
    "sex_counts = mouse_metadata.groupby('Sex').count().reset_index()\n",
    "\n",
    "# store the 'Male' and 'Female' labels\n",
    "sex = sex_counts['Sex']\n",
    "sex_counts = sex_counts.rename(columns = {'Sex': 'Male or Female',\n",
    "                                          'Mouse ID': 'Sex'})\n",
    "sex_counts = sex_counts['Sex']\n",
    "\n",
    "colors = ['green', 'lightblue']\n",
    "sex_counts.plot(kind= 'pie', labels = sex, colors = colors,\n",
    "        autopct=\"%1.1f%%\", shadow = False, startangle = 93)\n",
    "plt.axis('equal')\n",
    "plt.ylabel('') # remove this to make identical to plot below\n",
    "plt.title('Distribution of Female and Male Mice')\n",
    "plt.show()"
   ]
  },
  {
   "cell_type": "code",
   "execution_count": 10,
   "metadata": {},
   "outputs": [
    {
     "data": {
      "image/png": "[encoded data removed]",
      "text/plain": [
       "<Figure size 432x288 with 1 Axes>"
      ]
     },
     "metadata": {},
     "output_type": "display_data"
    }
   ],
   "source": [
    "# Generate a pie plot showing the distribution of female versus male mice using pyplot\n",
    "\n",
    "# sex_counts = mouse_metadata.groupby('Sex').count().reset_index()\n",
    "# sex = sex_counts['Sex']\n",
    "# sex_counts = sex_counts['Mouse ID']\n",
    "\n",
    "# colors = ['green', 'lightblue']\n",
    "\n",
    "# we use the same counts as the cell above\n",
    "plt.pie(sex_counts, labels = sex, colors = colors,\n",
    "        autopct=\"%1.1f%%\", shadow = False, startangle = 93)\n",
    "plt.axis('equal')\n",
    "plt.title('Distribution of Female and Male Mice')\n",
    "plt.show()"
   ]
  },
  {
   "cell_type": "markdown",
   "metadata": {},
   "source": [
    "## Quartiles, outliers and boxplots"
   ]
  },
  {
   "cell_type": "code",
   "execution_count": 11,
   "metadata": {},
   "outputs": [],
   "source": [
    "# Method 1: Final timepoint of each mouse (regardless of whether they made it to timepoint 45)\n",
    "max_timepoint = pharma_df[['Mouse ID', 'Timepoint']].groupby(['Mouse ID']).max().reset_index()\n",
    "max_timepoint_df = pd.merge(max_timepoint, pharma_df, how = 'left')\n",
    "\n",
    "# most promising treatment regimens are: Capomulin, Ramicane, Infubinol, and Ceftamin\n",
    "best_regimens_cond = (max_timepoint_df['Drug Regimen'] == 'Capomulin') | (max_timepoint_df['Drug Regimen'] == 'Ramicane') | (max_timepoint_df['Drug Regimen'] == 'Infubinol') | (max_timepoint_df['Drug Regimen'] == 'Ceftamin')\n",
    "pharma_max_timepoint = max_timepoint_df[best_regimens_cond]  # some timepoints will be before time 45, but i've kept  this df name for convenience\n",
    "\n",
    "# # # Method 2: final tumor volume occurs at timepoint 45, so use these mice\n",
    "# pharma_max_timepoint = pharma_df[pharma_df['Timepoint'] == pharma_df['Timepoint'].max()]\n",
    "\n",
    "# # most promising treatment regimens are: Capomulin, Ramicane, Infubinol, and Ceftamin\n",
    "# best_regimens_cond = (pharma_max_timepoint['Drug Regimen'] == 'Capomulin') | (pharma_max_timepoint['Drug Regimen'] == 'Ramicane') | (pharma_max_timepoint['Drug Regimen'] == 'Infubinol') | (ppharma_max_timepoint['Drug Regimen'] == 'Ceftamin')\n",
    "# pharma_max_timepoint = pharma_max_timepoint[best_regimens_cond]"
   ]
  },
  {
   "cell_type": "code",
   "execution_count": 12,
   "metadata": {},
   "outputs": [
    {
     "data": {
      "text/plain": [
       "Series([], Name: Mouse ID, dtype: object)"
      ]
     },
     "execution_count": 12,
     "metadata": {},
     "output_type": "execute_result"
    }
   ],
   "source": [
    "# Calculate the final tumor volume of each mouse across four of the most promising treatment regimens. Calculate the IQR and quantitatively determine if there are any potential outliers. \n",
    "\n",
    "# IQR\n",
    "final_tumor_vols = pharma_max_timepoint['Tumor Volume (mm3)']\n",
    "quartiles = final_tumor_vols.quantile([.25,.5,.75])\n",
    "lowerq = quartiles[0.25]\n",
    "medq = quartiles[0.5]\n",
    "upperq = quartiles[0.75]\n",
    "iqr = upperq - lowerq\n",
    "\n",
    "# potential outliers are below the lower bound and above the upper bound\n",
    "lower_bound = lowerq - (1.5 * iqr)\n",
    "upper_bound = upperq + (1.5 * iqr)\n",
    "\n",
    "# find Mouse IDs of outliers\n",
    "outliers_cond = (pharma_max_timepoint['Tumor Volume (mm3)'] < lower_bound) | (pharma_max_timepoint['Tumor Volume (mm3)'] > upper_bound)\n",
    "outlier_ids = pharma_max_timepoint[outliers_cond]['Mouse ID']\n",
    "\n",
    "outlier_ids # there are no outliers according to the IQR calculation"
   ]
  },
  {
   "cell_type": "code",
   "execution_count": 13,
   "metadata": {},
   "outputs": [],
   "source": [
    "# Capomulin\n",
    "capomulin_cond = (pharma_max_timepoint['Drug Regimen'] == 'Capomulin')\n",
    "capomulin_final_vol = pharma_max_timepoint[capomulin_cond]\n",
    "capomulin_final_vol\n",
    "\n",
    "# IQR\n",
    "capomulin_tumor_vols = capomulin_final_vol['Tumor Volume (mm3)']\n",
    "quartiles_capomulin = capomulin_tumor_vols.quantile([.25,.5,.75])\n",
    "lowerq_capomulin = quartiles_capomulin[0.25]\n",
    "medq_capomulin = quartiles_capomulin[0.5]\n",
    "upperq_capomulin = quartiles_capomulin[0.75]\n",
    "iqr_capomulin = upperq_capomulin - lowerq_capomulin\n",
    "\n",
    "# potential outliers are below the lower bound and above the upper bound\n",
    "lower_bound_capomulin = lowerq_capomulin - (1.5 * iqr_capomulin)\n",
    "upper_bound_capomulin = upperq_capomulin + (1.5 * iqr_capomulin)\n",
    "\n",
    "# find Mouse IDs of outliers\n",
    "outliers_cond_capomulin = (capomulin_final_vol['Tumor Volume (mm3)'] < lower_bound_capomulin) | (capomulin_final_vol['Tumor Volume (mm3)'] > upper_bound_capomulin)\n",
    "outlier_ids_capomulin = capomulin_final_vol[outliers_cond_capomulin]['Mouse ID']"
   ]
  },
  {
   "cell_type": "code",
   "execution_count": 14,
   "metadata": {},
   "outputs": [],
   "source": [
    "# Ramicane\n",
    "ramicane_cond = (pharma_max_timepoint['Drug Regimen'] == 'Ramicane')\n",
    "ramicane_final_vol = pharma_max_timepoint[ramicane_cond]\n",
    "\n",
    "# IQR\n",
    "ramicane_tumor_vols = ramicane_final_vol['Tumor Volume (mm3)']\n",
    "quartiles_ramicane = ramicane_tumor_vols.quantile([.25,.5,.75])\n",
    "lowerq_ramicane = quartiles_ramicane[0.25]\n",
    "medq_ramicane = quartiles_ramicane[0.5]\n",
    "upperq_ramicane = quartiles_ramicane[0.75]\n",
    "iqr_ramicane = upperq_ramicane - lowerq_ramicane\n",
    "\n",
    "# potential outliers are below the lower bound and above the upper bound\n",
    "lower_bound_ramicane = lowerq_ramicane - (1.5 * iqr_ramicane)\n",
    "upper_bound_ramicane = upperq_ramicane + (1.5 * iqr_ramicane)\n",
    "\n",
    "# find Mouse IDs of outliers\n",
    "outliers_cond_ramicane = (ramicane_final_vol['Tumor Volume (mm3)'] < lower_bound_ramicane) | (ramicane_final_vol['Tumor Volume (mm3)'] > upper_bound_ramicane)\n",
    "outlier_ids_ramicane = ramicane_final_vol[outliers_cond_ramicane]['Mouse ID']"
   ]
  },
  {
   "cell_type": "code",
   "execution_count": 15,
   "metadata": {},
   "outputs": [],
   "source": [
    "# Infubinol\n",
    "infubinol_cond = (pharma_max_timepoint['Drug Regimen'] == 'Infubinol')\n",
    "infubinol_final_vol = pharma_max_timepoint[infubinol_cond]\n",
    "\n",
    "# IQR\n",
    "infubinol_tumor_vols = infubinol_final_vol['Tumor Volume (mm3)']\n",
    "quartiles_infubinol = infubinol_tumor_vols.quantile([.25,.5,.75])\n",
    "lowerq_infubinol = quartiles_infubinol[0.25]\n",
    "medq_infubinol = quartiles_infubinol[0.5]\n",
    "upperq_infubinol = quartiles_infubinol[0.75]\n",
    "iqr_infubinol = upperq_infubinol - lowerq_infubinol\n",
    "\n",
    "# potential outliers are below the lower bound and above the upper bound\n",
    "lower_bound_infubinol = lowerq_infubinol - (1.5 * iqr_infubinol)\n",
    "upper_bound_infubinol = upperq_infubinol + (1.5 * iqr_infubinol)\n",
    "\n",
    "# find Mouse IDs of outliers\n",
    "outliers_cond_infubinol = (infubinol_final_vol['Tumor Volume (mm3)'] < lower_bound_infubinol) | (infubinol_final_vol['Tumor Volume (mm3)'] > upper_bound_infubinol)\n",
    "outlier_ids_infubinol = infubinol_final_vol[outliers_cond_infubinol]['Mouse ID']"
   ]
  },
  {
   "cell_type": "code",
   "execution_count": 16,
   "metadata": {},
   "outputs": [],
   "source": [
    "# Ceftamin\n",
    "ceftamin_cond = (pharma_max_timepoint['Drug Regimen'] == 'Ceftamin')\n",
    "ceftamin_final_vol = pharma_max_timepoint[ceftamin_cond]\n",
    "\n",
    "ceftamin_final_vol\n",
    "\n",
    "# IQR\n",
    "ceftamin_tumor_vols = ceftamin_final_vol['Tumor Volume (mm3)']\n",
    "quartiles_ceftamin = ceftamin_tumor_vols.quantile([.25,.5,.75])\n",
    "lowerq_ceftamin = quartiles_ceftamin[0.25]\n",
    "medq_ceftamin = quartiles_ceftamin[0.5]\n",
    "upperq_ceftamin = quartiles_ceftamin[0.75]\n",
    "iqr_ceftamin = upperq_ceftamin - lowerq_ceftamin\n",
    "\n",
    "# potential outliers are below the lower bound and above the upper bound\n",
    "lower_bound_ceftamin = lowerq_ceftamin - (1.5 * iqr_ceftamin)\n",
    "upper_bound_ceftamin = upperq_ceftamin + (1.5 * iqr_ceftamin)\n",
    "\n",
    "# find Mouse IDs of outliers\n",
    "outliers_cond_ceftamin = (ceftamin_final_vol['Tumor Volume (mm3)'] < lower_bound_ceftamin) | (ceftamin_final_vol['Tumor Volume (mm3)'] > upper_bound_ceftamin)\n",
    "outlier_ids_ceftamin = ceftamin_final_vol[outliers_cond_ceftamin]['Mouse ID']"
   ]
  },
  {
   "cell_type": "code",
   "execution_count": 17,
   "metadata": {},
   "outputs": [
    {
     "data": {
      "text/html": [
       "<div>\n",
       "<style scoped>\n",
       "    .dataframe tbody tr th:only-of-type {\n",
       "        vertical-align: middle;\n",
       "    }\n",
       "\n",
       "    .dataframe tbody tr th {\n",
       "        vertical-align: top;\n",
       "    }\n",
       "\n",
       "    .dataframe thead th {\n",
       "        text-align: right;\n",
       "    }\n",
       "</style>\n",
       "<table border=\"1\" class=\"dataframe\">\n",
       "  <thead>\n",
       "    <tr style=\"text-align: right;\">\n",
       "      <th></th>\n",
       "      <th>Drug Regimen</th>\n",
       "      <th>Lower Quartile</th>\n",
       "      <th>Median</th>\n",
       "      <th>Upper Quartile</th>\n",
       "      <th>IQR</th>\n",
       "      <th>Lower Bound</th>\n",
       "      <th>Upper Bound</th>\n",
       "      <th>Outlier IDs</th>\n",
       "    </tr>\n",
       "  </thead>\n",
       "  <tbody>\n",
       "    <tr>\n",
       "      <td>0</td>\n",
       "      <td>All Data</td>\n",
       "      <td>37.187744</td>\n",
       "      <td>45.000000</td>\n",
       "      <td>59.930262</td>\n",
       "      <td>22.742518</td>\n",
       "      <td>3.073967</td>\n",
       "      <td>94.044039</td>\n",
       "      <td>[]</td>\n",
       "    </tr>\n",
       "    <tr>\n",
       "      <td>1</td>\n",
       "      <td>Capomulin</td>\n",
       "      <td>32.377357</td>\n",
       "      <td>38.125164</td>\n",
       "      <td>40.159220</td>\n",
       "      <td>7.781863</td>\n",
       "      <td>20.704562</td>\n",
       "      <td>51.832015</td>\n",
       "      <td>[]</td>\n",
       "    </tr>\n",
       "    <tr>\n",
       "      <td>2</td>\n",
       "      <td>Ramicane</td>\n",
       "      <td>31.560470</td>\n",
       "      <td>36.561652</td>\n",
       "      <td>40.659006</td>\n",
       "      <td>9.098537</td>\n",
       "      <td>17.912664</td>\n",
       "      <td>54.306811</td>\n",
       "      <td>[]</td>\n",
       "    </tr>\n",
       "    <tr>\n",
       "      <td>3</td>\n",
       "      <td>Infubinol</td>\n",
       "      <td>54.048608</td>\n",
       "      <td>60.165180</td>\n",
       "      <td>65.525743</td>\n",
       "      <td>11.477135</td>\n",
       "      <td>36.832905</td>\n",
       "      <td>82.741446</td>\n",
       "      <td>[c326]</td>\n",
       "    </tr>\n",
       "    <tr>\n",
       "      <td>4</td>\n",
       "      <td>Ceftamin</td>\n",
       "      <td>48.722078</td>\n",
       "      <td>59.851956</td>\n",
       "      <td>64.299830</td>\n",
       "      <td>15.577752</td>\n",
       "      <td>25.355450</td>\n",
       "      <td>87.666458</td>\n",
       "      <td>[]</td>\n",
       "    </tr>\n",
       "  </tbody>\n",
       "</table>\n",
       "</div>"
      ],
      "text/plain": [
       "  Drug Regimen  Lower Quartile     Median  Upper Quartile        IQR  \\\n",
       "0     All Data       37.187744  45.000000       59.930262  22.742518   \n",
       "1    Capomulin       32.377357  38.125164       40.159220   7.781863   \n",
       "2     Ramicane       31.560470  36.561652       40.659006   9.098537   \n",
       "3    Infubinol       54.048608  60.165180       65.525743  11.477135   \n",
       "4     Ceftamin       48.722078  59.851956       64.299830  15.577752   \n",
       "\n",
       "   Lower Bound  Upper Bound Outlier IDs  \n",
       "0     3.073967    94.044039          []  \n",
       "1    20.704562    51.832015          []  \n",
       "2    17.912664    54.306811          []  \n",
       "3    36.832905    82.741446      [c326]  \n",
       "4    25.355450    87.666458          []  "
      ]
     },
     "execution_count": 17,
     "metadata": {},
     "output_type": "execute_result"
    }
   ],
   "source": [
    "# make a summary table to look at the values we calculated\n",
    "iqr_summary = pd.DataFrame({'Drug Regimen': ['All Data', 'Capomulin', 'Ramicane', 'Infubinol', 'Ceftamin'],\n",
    "                            'Lower Quartile': [lowerq, lowerq_capomulin, lowerq_ramicane, lowerq_infubinol, lowerq_ceftamin],\n",
    "                            'Median': [medq, medq_capomulin, medq_ramicane, medq_infubinol, medq_ceftamin],\n",
    "                            'Upper Quartile': [upperq, upperq_capomulin, upperq_ramicane, upperq_infubinol, upperq_ceftamin],\n",
    "                            'IQR': [iqr, iqr_capomulin, iqr_ramicane, iqr_infubinol, iqr_ceftamin],\n",
    "                            'Lower Bound': [lower_bound, lower_bound_capomulin, lower_bound_ramicane, lower_bound_infubinol, lower_bound_ceftamin],\n",
    "                            'Upper Bound': [upper_bound, upper_bound_capomulin, upper_bound_ramicane, upper_bound_infubinol, upper_bound_ceftamin],\n",
    "                            'Outlier IDs': [outlier_ids.unique(), outlier_ids_capomulin.unique(), outlier_ids_ramicane.unique(), outlier_ids_infubinol.unique(), outlier_ids_ceftamin.unique()]})\n",
    "\n",
    "iqr_summary"
   ]
  },
  {
   "cell_type": "code",
   "execution_count": 18,
   "metadata": {},
   "outputs": [
    {
     "name": "stdout",
     "output_type": "stream",
     "text": [
      "Infubinol has an outlier: The lower bound is 36.83 and mouse c326 is below that value with a tumor volume of 36.32 mm3 at timepoint 5.\n"
     ]
    }
   ],
   "source": [
    "# Quantitatively determine outliers\n",
    "\n",
    "print('Infubinol has an outlier: The lower bound is 36.83 and mouse c326 is below that value with a tumor volume of 36.32 mm3 at timepoint 5.')"
   ]
  },
  {
   "cell_type": "code",
   "execution_count": 19,
   "metadata": {},
   "outputs": [
    {
     "data": {
      "image/png": "[encoded data removed]",
      "text/plain": [
       "<Figure size 432x288 with 1 Axes>"
      ]
     },
     "metadata": {
      "needs_background": "light"
     },
     "output_type": "display_data"
    }
   ],
   "source": [
    "# Generate a box plot of the final tumor volume of each mouse across four regimens of interest\n",
    "\n",
    "# change the style of outliers \n",
    "outlier_symbols = dict(markerfacecolor='r', marker='s')\n",
    "\n",
    "# create a list of the data\n",
    "tumor_vol_data = [capomulin_final_vol['Tumor Volume (mm3)'], \n",
    "        ramicane_final_vol['Tumor Volume (mm3)'], \n",
    "        infubinol_final_vol['Tumor Volume (mm3)'], \n",
    "        ceftamin_final_vol['Tumor Volume (mm3)']]\n",
    "\n",
    "# box plot for four most promosing treatments\n",
    "fig1, ax1 = plt.subplots()\n",
    "ax1.set_title('Final Tumor Volume (mm3)')\n",
    "ax1.boxplot(tumor_vol_data, flierprops = outlier_symbols)\n",
    "plt.xticks([1, 2, 3, 4], ['Capomulin', 'Ramican', 'Infubinol', 'Ceftamin'])\n",
    "plt.ylim(0, 80)\n",
    "\n",
    "plt.show()"
   ]
  },
  {
   "cell_type": "markdown",
   "metadata": {},
   "source": [
    "## Line and scatter plots"
   ]
  },
  {
   "cell_type": "code",
   "execution_count": 20,
   "metadata": {},
   "outputs": [
    {
     "data": {
      "image/png": "[encoded data removed]",
      "text/plain": [
       "<Figure size 432x288 with 1 Axes>"
      ]
     },
     "metadata": {
      "needs_background": "light"
     },
     "output_type": "display_data"
    }
   ],
   "source": [
    "# Generate a line plot of time point versus tumor volume for a mouse treated with Capomulin\n",
    "\n",
    "# df for the Capomulin regimen\n",
    "capo_cond = pharma_df['Drug Regimen'] == 'Capomulin'\n",
    "capomulin_df = pharma_df.loc[capo_cond]\n",
    "\n",
    "# pick a mouse\n",
    "mouse_cond = capomulin_df['Mouse ID'] == 's185'\n",
    "capomulin_mouse = capomulin_df.loc[mouse_cond]\n",
    "\n",
    "# plot timepoint versus tumor volume\n",
    "plt.plot(capomulin_mouse['Timepoint'], capomulin_mouse['Tumor Volume (mm3)'])\n",
    "plt.title('Capomulin Regimen:\\n One Mouse\\'s Tumor Volume over Time')\n",
    "plt.xlabel(\"Timepoint\")\n",
    "plt.ylabel(\"Tumor Volume (mm3)\")\n",
    "plt.ylim(0, 50)  # x limits were okay, but y limits looked deceptive because y did not start at the origin\n",
    "plt.show()"
   ]
  },
  {
   "cell_type": "code",
   "execution_count": 21,
   "metadata": {},
   "outputs": [
    {
     "data": {
      "image/png": "[encoded data removed]",
      "text/plain": [
       "<Figure size 432x288 with 1 Axes>"
      ]
     },
     "metadata": {
      "needs_background": "light"
     },
     "output_type": "display_data"
    }
   ],
   "source": [
    "# Generate a scatter plot of mouse weight versus average tumor volume for the Capomulin regimen\n",
    "\n",
    "# mean weight and tumor volumne for Capomulin\n",
    "capomulin_mean = capomulin_df.groupby(['Mouse ID']).mean()\n",
    "\n",
    "# plot weight versus average tumor volume\n",
    "plt.scatter(capomulin_mean['Weight (g)'], capomulin_mean['Tumor Volume (mm3)'])\n",
    "plt.title('Capomulin Regimen:\\nMouse Weight versus Average Tumor Volume')\n",
    "plt.xlabel(\"Weight (g)\")\n",
    "plt.ylabel(\"Tumor Volume (mm3)\")\n",
    "plt.xlim(0, 30) # start at the origin\n",
    "plt.ylim(0, 55)\n",
    "plt.show()"
   ]
  },
  {
   "cell_type": "code",
   "execution_count": 22,
   "metadata": {},
   "outputs": [
    {
     "name": "stdout",
     "output_type": "stream",
     "text": [
      "The correlation between mouse weight and average tumor volume is 0.84 with a p-value of 1e-07, which is statisically significant at the .001 level.\n"
     ]
    }
   ],
   "source": [
    "# Calculate the correlation coefficient and linear regression model for mouse weight and average tumor volume for the Capomulin regimen\n",
    "\n",
    "# correlation coefficient\n",
    "correlation_calc = sts.pearsonr(capomulin_mean['Weight (g)'], capomulin_mean['Tumor Volume (mm3)'])\n",
    "correlation = correlation_calc[0].round(2)\n",
    "corr_p_val = correlation_calc[1].round(7)\n",
    "\n",
    "print(f'The correlation between mouse weight and average tumor volume is {correlation} with a p-value of {corr_p_val}, which is statisically significant at the .001 level.')"
   ]
  },
  {
   "cell_type": "code",
   "execution_count": 23,
   "metadata": {},
   "outputs": [
    {
     "name": "stdout",
     "output_type": "stream",
     "text": [
      "The r-squared value is: 0.71\n"
     ]
    },
    {
     "data": {
      "image/png": "[encoded data removed]",
      "text/plain": [
       "<Figure size 432x288 with 1 Axes>"
      ]
     },
     "metadata": {
      "needs_background": "light"
     },
     "output_type": "display_data"
    }
   ],
   "source": [
    "# regression model\n",
    "regression = sts.linregress(capomulin_mean['Weight (g)'], capomulin_mean['Tumor Volume (mm3)'])\n",
    "\n",
    "# regression equation to create line (y = mx + b)\n",
    "slope = regression[0]\n",
    "intercept = regression[1]\n",
    "x = capomulin_mean['Weight (g)']\n",
    "y = slope * x + intercept\n",
    "rsq_value = round(regression[2]**2,2)\n",
    "\n",
    "# plot weight versus average tumor volume\n",
    "plt.scatter(capomulin_mean['Weight (g)'], capomulin_mean['Tumor Volume (mm3)'])\n",
    "# plot regression line\n",
    "plt.plot(x, y, color = 'r')\n",
    "plt.title('Capomulin Regimen:\\nMouse Weight versus Average Tumor Volume')\n",
    "line_eq = \"y = \" + str(round(slope,2)) + \"x + \" + str(round(intercept,2))\n",
    "plt.annotate(line_eq, (20,36), fontsize = 15, color = \"r\")\n",
    "plt.xlabel(\"Weight (g)\")\n",
    "plt.ylabel(\"Tumor Volume (mm3)\")\n",
    "print(f\"The r-squared value is: {rsq_value}\")\n",
    "\n",
    "# I chose to use the default x and y limits for this plot\n",
    "plt.show()"
   ]
  },
  {
   "cell_type": "code",
   "execution_count": null,
   "metadata": {},
   "outputs": [],
   "source": []
  }
 ],
 "metadata": {
  "anaconda-cloud": {},
  "kernelspec": {
   "display_name": "Python 3",
   "language": "python",
   "name": "python3"
  },
  "language_info": {
   "codemirror_mode": {
    "name": "ipython",
    "version": 3
   },
   "file_extension": ".py",
   "mimetype": "text/x-python",
   "name": "python",
   "nbconvert_exporter": "python",
   "pygments_lexer": "ipython3",
   "version": "3.7.4"
  }
 },
 "nbformat": 4,
 "nbformat_minor": 2
}
